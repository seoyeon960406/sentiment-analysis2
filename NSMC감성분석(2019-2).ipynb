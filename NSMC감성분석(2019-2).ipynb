{
 "cells": [
  {
   "cell_type": "markdown",
   "metadata": {},
   "source": [
    "code by Park Seoyeon @seoyeon960406\n",
    "- 2019-12\n",
    "- tensorflow v1"
   ]
  },
  {
   "cell_type": "markdown",
   "metadata": {},
   "source": [
    "## 형태소 분석 완료된 파일로 실행\n",
    "- 형태소 분석은 울산대학교의 UTagger를 사용했음"
   ]
  },
  {
   "cell_type": "code",
   "execution_count": 1,
   "metadata": {},
   "outputs": [],
   "source": [
    "def open_tokenized_file(filename):\n",
    "    tokens, labels = [], []\n",
    "    with open(filename, 'r', encoding='utf-8') as f:\n",
    "        for line in f.readlines():\n",
    "            line = line.replace('\\n', '').split('\\t')\n",
    "            tokens.append(line[0].split())\n",
    "            labels.append(line[1])\n",
    "    return tokens, labels "
   ]
  },
  {
   "cell_type": "code",
   "execution_count": 2,
   "metadata": {},
   "outputs": [],
   "source": [
    "train_tokens, train_labels = open_tokenized_file('./data_in/tokenized_rating_train.txt')\n",
    "test_tokens, test_labels = open_tokenized_file('./data_in/tokenized_rating_test.txt')"
   ]
  },
  {
   "cell_type": "code",
   "execution_count": 3,
   "metadata": {},
   "outputs": [
    {
     "name": "stdout",
     "output_type": "stream",
     "text": [
      "['아__02/IC', '더빙/NNG', './SF', './SF', '진짜/NNG', '짜증/NNG', '나__01/VV', '네/EC', '요/JX', '목소리/NNG'] 0\n"
     ]
    }
   ],
   "source": [
    "print(train_tokens[0], train_labels[0])"
   ]
  },
  {
   "cell_type": "markdown",
   "metadata": {},
   "source": [
    "## 음절, 자소 임베딩을 위해 띄어쓰기 교정한 데이터 open"
   ]
  },
  {
   "cell_type": "code",
   "execution_count": 4,
   "metadata": {},
   "outputs": [],
   "source": [
    "def open_file(filename):\n",
    "    reviews = []\n",
    "    with open(filename, 'r', encoding='utf-8') as f:\n",
    "        for line in f.readlines():\n",
    "            line = line.replace('\\n', '').split('\\t')\n",
    "            reviews.append(line[0])\n",
    "    return reviews "
   ]
  },
  {
   "cell_type": "code",
   "execution_count": 5,
   "metadata": {},
   "outputs": [],
   "source": [
    "train_reviews = open_file('./data_in/preprocessed_rating_train.txt')\n",
    "test_reviews = open_file('./data_in/preprocessed_rating_test.txt')"
   ]
  },
  {
   "cell_type": "code",
   "execution_count": 6,
   "metadata": {},
   "outputs": [
    {
     "data": {
      "text/plain": [
       "'아 더빙.. 진짜 짜증나네요 목소리'"
      ]
     },
     "execution_count": 6,
     "metadata": {},
     "output_type": "execute_result"
    }
   ],
   "source": [
    "train_reviews[0]"
   ]
  },
  {
   "cell_type": "markdown",
   "metadata": {},
   "source": [
    "## 음절 분리"
   ]
  },
  {
   "cell_type": "code",
   "execution_count": 7,
   "metadata": {},
   "outputs": [],
   "source": [
    "# 문장을 음절 단위로 구분\n",
    "def sent2eom(sentence):\n",
    "    eomjeols = []\n",
    "    for eomjeol in sentence:\n",
    "        if eomjeol!=' ':\n",
    "            eomjeols.append(eomjeol)\n",
    "    return eomjeols"
   ]
  },
  {
   "cell_type": "code",
   "execution_count": 8,
   "metadata": {},
   "outputs": [],
   "source": [
    "train_chars = [sent2eom(sent) for sent in train_reviews]\n",
    "test_chars = [sent2eom(sent) for sent in test_reviews]"
   ]
  },
  {
   "cell_type": "code",
   "execution_count": 9,
   "metadata": {},
   "outputs": [],
   "source": [
    "char_lens = [len(sent) for sent in train_chars]\n",
    "max_char_length = max(char_lens)"
   ]
  },
  {
   "cell_type": "code",
   "execution_count": 10,
   "metadata": {},
   "outputs": [
    {
     "data": {
      "text/plain": [
       "140"
      ]
     },
     "execution_count": 10,
     "metadata": {},
     "output_type": "execute_result"
    }
   ],
   "source": [
    "max_char_length"
   ]
  },
  {
   "cell_type": "markdown",
   "metadata": {},
   "source": [
    "## 자소 분리\n",
    "- https://github.com/moonbings/naver-ai-hackathon-2018/blob/master/movie\n",
    "- dataset.py와 kor_char_parser.py를 활용"
   ]
  },
  {
   "cell_type": "code",
   "execution_count": 11,
   "metadata": {},
   "outputs": [],
   "source": [
    "from kor_char_parser import *\n",
    "from dataset import preprocess"
   ]
  },
  {
   "cell_type": "code",
   "execution_count": 12,
   "metadata": {},
   "outputs": [],
   "source": [
    "train_jaso = preprocess(train_reviews, max_char_length)\n",
    "test_jaso = preprocess(test_reviews, max_char_length)"
   ]
  },
  {
   "cell_type": "code",
   "execution_count": 13,
   "metadata": {},
   "outputs": [
    {
     "name": "stdout",
     "output_type": "stream",
     "text": [
      "['아__02/IC', '더빙/NNG', './SF', './SF', '진짜/NNG', '짜증/NNG', '나__01/VV', '네/EC', '요/JX', '목소리/NNG']\n",
      "['아', '더', '빙', '.', '.', '진', '짜', '짜', '증', '나', '네', '요', '목', '소', '리']\n",
      "[ 11  19  99   3  23   7  39  60 113 113  99  12  39  43  13  19  99  13\n",
      "  19  12  37  60   2  19   2  24  11  31  99   6  27  40   9  27   5  39\n",
      "   0   0   0   0   0   0   0   0   0   0   0   0   0   0   0   0   0   0\n",
      "   0   0   0   0   0   0   0   0   0   0   0   0   0   0   0   0   0   0\n",
      "   0   0   0   0   0   0   0   0   0   0   0   0   0   0   0   0   0   0\n",
      "   0   0   0   0   0   0   0   0   0   0   0   0   0   0   0   0   0   0\n",
      "   0   0   0   0   0   0   0   0   0   0   0   0   0   0   0   0   0   0\n",
      "   0   0   0   0   0   0   0   0   0   0   0   0   0   0]\n"
     ]
    }
   ],
   "source": [
    "print(train_tokens[0])\n",
    "print(train_chars[0])\n",
    "print(train_jaso[0])"
   ]
  },
  {
   "cell_type": "markdown",
   "metadata": {},
   "source": [
    "## 감성분석 모델 학습\n",
    "- tensorflow v1 사용 중\n",
    "- 병렬형 stacked BiLSTM 사용"
   ]
  },
  {
   "cell_type": "code",
   "execution_count": 14,
   "metadata": {},
   "outputs": [],
   "source": [
    "import tensorflow as tf\n",
    "import numpy as np"
   ]
  },
  {
   "cell_type": "code",
   "execution_count": 15,
   "metadata": {},
   "outputs": [],
   "source": [
    "#word2vec.py\n",
    "import word2vec"
   ]
  },
  {
   "cell_type": "code",
   "execution_count": 16,
   "metadata": {},
   "outputs": [],
   "source": [
    "w2v = word2vec.Word2Vec()"
   ]
  },
  {
   "cell_type": "code",
   "execution_count": 17,
   "metadata": {},
   "outputs": [],
   "source": [
    "index = int(len(train_tokens)*0.9)\n",
    "\n",
    "train_tokens, val_tokens = train_tokens[:index], train_tokens[index:]\n",
    "train_chars, val_chars = train_chars[:index], train_chars[index:]\n",
    "train_jaso, val_jaso = train_jaso[:index], train_jaso[index:]\n",
    "train_labels, val_labels = train_labels[:index], train_labels[index:]"
   ]
  },
  {
   "cell_type": "code",
   "execution_count": 18,
   "metadata": {},
   "outputs": [],
   "source": [
    "train_Token = w2v.corpus2vec('./model/movie_word2vec300.model',train_tokens)\n",
    "train_Char = w2v.corpus2vec('./model/movie_char2vec300.model', train_chars)\n",
    "train_Jaso = train_jaso\n",
    "train_Y = w2v.onehot(train_labels)"
   ]
  },
  {
   "cell_type": "code",
   "execution_count": 19,
   "metadata": {},
   "outputs": [],
   "source": [
    "val_Token = w2v.corpus2vec('./model/movie_word2vec300.model',val_tokens)\n",
    "val_Char = w2v.corpus2vec('./model/movie_char2vec300.model', val_chars)\n",
    "val_Jaso = val_jaso\n",
    "val_Y = w2v.onehot(val_labels)"
   ]
  },
  {
   "cell_type": "code",
   "execution_count": 20,
   "metadata": {},
   "outputs": [],
   "source": [
    "batch_size = 256\n",
    "vector_size = 300\n",
    "character_size = 251 #음절을 자소 분리를 했을 때, 총 251개의 값이 존재\n",
    "seq_list = [len(x) for x in train_tokens]\n",
    "max_seq_length = max(seq_list) #140\n",
    "learning_rate = 0.001\n",
    "lstm_units = 128\n",
    "num_class = 2 # 분류할 클래스 수(긍정, 부정)\n",
    "training_epochs = 100\n",
    "n_layers = 2"
   ]
  },
  {
   "cell_type": "code",
   "execution_count": 21,
   "metadata": {},
   "outputs": [],
   "source": [
    "def reset_graph(seed=0):\n",
    "    tf.reset_default_graph()\n",
    "    tf.set_random_seed(seed)"
   ]
  },
  {
   "cell_type": "code",
   "execution_count": 22,
   "metadata": {},
   "outputs": [],
   "source": [
    "reset_graph()"
   ]
  },
  {
   "cell_type": "code",
   "execution_count": 23,
   "metadata": {},
   "outputs": [],
   "source": [
    "XT = tf.placeholder(tf.float32, shape=[None, max_seq_length, vector_size])\n",
    "XC = tf.placeholder(tf.float32, shape=[None, max_char_length, vector_size])\n",
    "XJ = tf.placeholder(tf.int32, shape=[None, max_char_length])\n",
    "Y = tf.placeholder(tf.float32, shape=[None, num_class])\n",
    "keep_prob = tf.placeholder(tf.float32)"
   ]
  },
  {
   "cell_type": "code",
   "execution_count": 24,
   "metadata": {},
   "outputs": [],
   "source": [
    "jaso_embedding = tf.get_variable('jaso_embedding', [character_size, vector_size])\n",
    "jaso_embedded = tf.nn.embedding_lookup(jaso_embedding, XJ)"
   ]
  },
  {
   "cell_type": "code",
   "execution_count": 25,
   "metadata": {},
   "outputs": [
    {
     "name": "stdout",
     "output_type": "stream",
     "text": [
      "WARNING:tensorflow:\n",
      "The TensorFlow contrib module will not be included in TensorFlow 2.0.\n",
      "For more information, please see:\n",
      "  * https://github.com/tensorflow/community/blob/master/rfcs/20180907-contrib-sunset.md\n",
      "  * https://github.com/tensorflow/addons\n",
      "  * https://github.com/tensorflow/io (for I/O related ops)\n",
      "If you depend on functionality not listed there, please file an issue.\n",
      "\n"
     ]
    }
   ],
   "source": [
    "W = tf.get_variable(name='W', shape=[6*lstm_units, num_class], dtype=tf.float32, initializer=tf.contrib.layers.xavier_initializer())\n",
    "b = tf.get_variable(name='b', shape=[num_class], dtype=tf.float32, initializer=tf.zeros_initializer())"
   ]
  },
  {
   "cell_type": "code",
   "execution_count": 26,
   "metadata": {},
   "outputs": [],
   "source": [
    "def basic_cell():\n",
    "    rnn_cell = tf.nn.rnn_cell.BasicLSTMCell(lstm_units)\n",
    "    rnn_cell = tf.nn.rnn_cell.DropoutWrapper(rnn_cell, output_keep_prob=keep_prob)\n",
    "    return rnn_cell"
   ]
  },
  {
   "cell_type": "code",
   "execution_count": 27,
   "metadata": {},
   "outputs": [
    {
     "name": "stdout",
     "output_type": "stream",
     "text": [
      "WARNING:tensorflow:From <ipython-input-26-2d1f4035bc66>:2: BasicLSTMCell.__init__ (from tensorflow.python.ops.rnn_cell_impl) is deprecated and will be removed in a future version.\n",
      "Instructions for updating:\n",
      "This class is equivalent as tf.keras.layers.LSTMCell, and will be replaced by that in Tensorflow 2.0.\n",
      "WARNING:tensorflow:From <ipython-input-27-e5daa0c2db76>:5: bidirectional_dynamic_rnn (from tensorflow.python.ops.rnn) is deprecated and will be removed in a future version.\n",
      "Instructions for updating:\n",
      "Please use `keras.layers.Bidirectional(keras.layers.RNN(cell))`, which is equivalent to this API\n",
      "WARNING:tensorflow:From C:\\Users\\klplab\\Anaconda3\\lib\\site-packages\\tensorflow_core\\python\\ops\\rnn.py:464: dynamic_rnn (from tensorflow.python.ops.rnn) is deprecated and will be removed in a future version.\n",
      "Instructions for updating:\n",
      "Please use `keras.layers.RNN(cell)`, which is equivalent to this API\n",
      "WARNING:tensorflow:From C:\\Users\\klplab\\Anaconda3\\lib\\site-packages\\tensorflow_core\\python\\ops\\rnn_cell_impl.py:735: Layer.add_variable (from tensorflow.python.keras.engine.base_layer) is deprecated and will be removed in a future version.\n",
      "Instructions for updating:\n",
      "Please use `layer.add_weight` method instead.\n",
      "WARNING:tensorflow:From C:\\Users\\klplab\\Anaconda3\\lib\\site-packages\\tensorflow_core\\python\\ops\\rnn_cell_impl.py:739: calling Zeros.__init__ (from tensorflow.python.ops.init_ops) with dtype is deprecated and will be removed in a future version.\n",
      "Instructions for updating:\n",
      "Call initializer instance with the dtype argument instead of passing it to the constructor\n"
     ]
    }
   ],
   "source": [
    "input_ = XT\n",
    "for n in range(n_layers):\n",
    "    with tf.variable_scope('word-lstm_layer{}'.format(n), reuse=tf.AUTO_REUSE):\n",
    "        cell_fw, cell_bw = basic_cell(), basic_cell()\n",
    "        word_outputs, word_states = tf.nn.bidirectional_dynamic_rnn(cell_fw, cell_bw, input_, dtype=tf.float32)\n",
    "        word_output = tf.concat(word_outputs,2)\n",
    "        input_ = word_output"
   ]
  },
  {
   "cell_type": "code",
   "execution_count": 28,
   "metadata": {},
   "outputs": [],
   "source": [
    "input_ = XC\n",
    "for n in range(n_layers):\n",
    "    with tf.variable_scope('char-lstm_layer{}'.format(n), reuse=tf.AUTO_REUSE):\n",
    "        cell_fw, cell_bw = basic_cell(), basic_cell()\n",
    "        char_outputs, char_states = tf.nn.bidirectional_dynamic_rnn(cell_fw, cell_bw, input_, dtype=tf.float32)\n",
    "        char_output = tf.concat(char_outputs,2)\n",
    "        input_ = char_output"
   ]
  },
  {
   "cell_type": "code",
   "execution_count": 29,
   "metadata": {},
   "outputs": [],
   "source": [
    "input_ = jaso_embedded\n",
    "for n in range(n_layers):\n",
    "    with tf.variable_scope('jaso-lstm_layer{}'.format(n), reuse=tf.AUTO_REUSE):\n",
    "        cell_fw, cell_bw = basic_cell(), basic_cell()\n",
    "        jaso_outputs, jaso_states = tf.nn.bidirectional_dynamic_rnn(cell_fw, cell_bw, input_, dtype=tf.float32)\n",
    "        jaso_output = tf.concat(jaso_outputs,2)\n",
    "        input_ = jaso_output"
   ]
  },
  {
   "cell_type": "code",
   "execution_count": 30,
   "metadata": {},
   "outputs": [],
   "source": [
    "word_final_states = tf.concat([word_states[1][0], word_states[1][1]], 1)\n",
    "char_final_states = tf.concat([char_states[1][0], char_states[1][1]], 1)\n",
    "jaso_final_states = tf.concat([jaso_states[1][0], jaso_states[1][1]], 1)"
   ]
  },
  {
   "cell_type": "code",
   "execution_count": 31,
   "metadata": {},
   "outputs": [],
   "source": [
    "final_states = tf.concat([word_final_states, char_final_states, jaso_final_states], axis=1)"
   ]
  },
  {
   "cell_type": "code",
   "execution_count": 32,
   "metadata": {},
   "outputs": [],
   "source": [
    "logits = tf.matmul(final_states, W) + b"
   ]
  },
  {
   "cell_type": "code",
   "execution_count": 33,
   "metadata": {},
   "outputs": [],
   "source": [
    "with tf.variable_scope('loss'):\n",
    "    loss = tf.reduce_mean(tf.nn.softmax_cross_entropy_with_logits_v2(logits=logits, labels=Y))\n",
    "    optimizer = tf.train.AdamOptimizer(learning_rate).minimize(loss)"
   ]
  },
  {
   "cell_type": "code",
   "execution_count": 34,
   "metadata": {},
   "outputs": [],
   "source": [
    "prediction = tf.nn.softmax(logits)"
   ]
  },
  {
   "cell_type": "code",
   "execution_count": 35,
   "metadata": {},
   "outputs": [],
   "source": [
    "correct_pred = tf.equal(tf.argmax(prediction, 1), tf.argmax(Y, 1))\n",
    "accuracy = tf.reduce_mean(tf.cast(correct_pred, tf.float32))"
   ]
  },
  {
   "cell_type": "code",
   "execution_count": 36,
   "metadata": {},
   "outputs": [],
   "source": [
    "init = tf.global_variables_initializer()"
   ]
  },
  {
   "cell_type": "code",
   "execution_count": 37,
   "metadata": {},
   "outputs": [],
   "source": [
    "modelName = \"./sentiment-parallel_LSTM_model.ckpt\"\n",
    "saver = tf.train.Saver()"
   ]
  },
  {
   "cell_type": "code",
   "execution_count": 38,
   "metadata": {},
   "outputs": [],
   "source": [
    "train_acc, train_loss = [], []\n",
    "val_acc, val_loss = [], []\n",
    "\n",
    "best_accuracy = 0\n",
    "max_checks = 5\n",
    "checks_without_progress = 0"
   ]
  },
  {
   "cell_type": "code",
   "execution_count": 39,
   "metadata": {},
   "outputs": [],
   "source": [
    "def shuffle_batch(XT, XC, XJ, y, batch_size):\n",
    "    rnd_idx = np.random.permutation(len(XT))\n",
    "    n_batches = len(XT) // (batch_size)\n",
    "    XT_, XC_, XJ_, y_ = XT[rnd_idx], XC[rnd_idx], XJ[rnd_idx], y[rnd_idx]\n",
    "    for step in range(n_batches):\n",
    "        start = step*batch_size\n",
    "        XT_batch, XC_batch = XT_[start:start+batch_size], XC_[start:start+batch_size]\n",
    "        XJ_batch, y_batch = XJ_[start:start+batch_size], y_[start:start+batch_size]\n",
    "        yield XT_batch, XC_batch, XJ_batch, y_batch"
   ]
  },
  {
   "cell_type": "code",
   "execution_count": 40,
   "metadata": {},
   "outputs": [
    {
     "name": "stdout",
     "output_type": "stream",
     "text": [
      "=====TRAIN======\n",
      "Eopch: 1, cost= 0.378914\n",
      "Train Accuracy: 0.8296370967741935\n",
      "=====VALID======\n",
      "Eopch: 1, cost= 0.343659\n",
      "Validation Accuracy: 0.8498787715517241\n",
      "\n",
      "=====TRAIN======\n",
      "Eopch: 2, cost= 0.318253\n",
      "Train Accuracy: 0.861146525142315\n",
      "=====VALID======\n",
      "Eopch: 2, cost= 0.298582\n",
      "Validation Accuracy: 0.8697467672413793\n",
      "\n",
      "=====TRAIN======\n",
      "Eopch: 3, cost= 0.289994\n",
      "Train Accuracy: 0.874881404174573\n",
      "=====VALID======\n",
      "Eopch: 3, cost= 0.290639\n",
      "Validation Accuracy: 0.8760775862068966\n",
      "\n",
      "=====TRAIN======\n",
      "Eopch: 4, cost= 0.270247\n",
      "Train Accuracy: 0.884584025142315\n",
      "=====VALID======\n",
      "Eopch: 4, cost= 0.286726\n",
      "Validation Accuracy: 0.8793776939655172\n",
      "\n",
      "=====TRAIN======\n",
      "Eopch: 5, cost= 0.251608\n",
      "Train Accuracy: 0.8948796252371917\n",
      "=====VALID======\n",
      "Eopch: 5, cost= 0.280332\n",
      "Validation Accuracy: 0.880926724137931\n",
      "\n",
      "=====TRAIN======\n",
      "Eopch: 6, cost= 0.233858\n",
      "Train Accuracy: 0.9030108515180265\n",
      "=====VALID======\n",
      "Eopch: 6, cost= 0.279319\n",
      "Validation Accuracy: 0.882745150862069\n",
      "\n",
      "=====TRAIN======\n",
      "Eopch: 7, cost= 0.216277\n",
      "Train Accuracy: 0.9105268619544592\n",
      "=====VALID======\n",
      "Eopch: 7, cost= 0.287579\n",
      "Validation Accuracy: 0.8801858836206896\n",
      "\n",
      "=====TRAIN======\n",
      "Eopch: 8, cost= 0.194367\n",
      "Train Accuracy: 0.9210670659392789\n",
      "=====VALID======\n",
      "Eopch: 8, cost= 0.296742\n",
      "Validation Accuracy: 0.8836880387931034\n",
      "\n",
      "=====TRAIN======\n",
      "Eopch: 9, cost= 0.171450\n",
      "Train Accuracy: 0.9310068785578748\n",
      "=====VALID======\n",
      "Eopch: 9, cost= 0.312182\n",
      "Validation Accuracy: 0.8822063577586207\n",
      "\n",
      "=====TRAIN======\n",
      "Eopch:10, cost= 0.147321\n",
      "Train Accuracy: 0.9419918168880456\n",
      "=====VALID======\n",
      "Eopch:10, cost= 0.349803\n",
      "Validation Accuracy: 0.8822063577586207\n",
      "\n",
      "=====TRAIN======\n",
      "Eopch:11, cost= 0.123511\n",
      "Train Accuracy: 0.9522207068311196\n",
      "=====VALID======\n",
      "Eopch:11, cost= 0.365812\n",
      "Validation Accuracy: 0.8718345905172413\n",
      "\n",
      "=====TRAIN======\n",
      "Eopch:12, cost= 0.101239\n",
      "Train Accuracy: 0.9612636385199241\n",
      "=====VALID======\n",
      "Eopch:12, cost= 0.446218\n",
      "Validation Accuracy: 0.875\n",
      "\n",
      "=====TRAIN======\n",
      "Eopch:13, cost= 0.081566\n",
      "Train Accuracy: 0.969431925996205\n",
      "=====VALID======\n",
      "Eopch:13, cost= 0.503273\n",
      "Validation Accuracy: 0.8758755387931034\n",
      "조기종료\n"
     ]
    }
   ],
   "source": [
    "with tf.Session() as sess:\n",
    "    sess.run(init)\n",
    "    for epoch in range(training_epochs):\n",
    "        avg_acc, avg_loss = [] , []\n",
    "        print('=====TRAIN======')\n",
    "        for XT_batch, XC_batch, XJ_batch, y_batch in shuffle_batch(train_Token, train_Char, train_Jaso, train_Y, batch_size):\n",
    "            if len(XT_batch)!=batch_size:\n",
    "                break\n",
    "                \n",
    "            w2v.load_model('./model/movie_word2vec300.model')\n",
    "            XT_batch =w2v.zero_padding(XT_batch, batch_size, max_seq_length, vector_size)\n",
    "            w2v.load_model('./model/movie_char2vec300.model')\n",
    "            XC_batch =w2v.zero_padding(XC_batch, batch_size, max_char_length, vector_size)\n",
    "            \n",
    "            los, _, acc = sess.run([loss, optimizer, accuracy],\n",
    "                        feed_dict={XT:XT_batch, XC:XC_batch, XJ:XJ_batch, Y:y_batch, keep_prob:0.75})\n",
    "            \n",
    "            avg_acc.append(acc)\n",
    "            avg_loss.append(los)\n",
    "        train_acc.append(sum(avg_acc)/len(avg_acc))\n",
    "        train_loss.append(sum(avg_loss)/len(avg_loss))\n",
    "        print('Eopch:{:2d}, cost={:9f}'.format((epoch+1), sum(avg_loss)/len(avg_loss)))\n",
    "        print('Train Accuracy:', sum(avg_acc)/len(avg_acc))\n",
    "        \n",
    "        avg_acc, avg_loss = [] , []\n",
    "        print('=====VALID======')\n",
    "        for val_XT_batch, val_XC_batch, val_XJ_batch, val_y_batch in shuffle_batch(val_Token, val_Char, val_Jaso, val_Y, batch_size):\n",
    "            if len(val_XT_batch)!=batch_size:\n",
    "                break\n",
    "                \n",
    "            w2v.load_model('./model/movie_word2vec300.model')\n",
    "            val_XT_batch =w2v.zero_padding(val_XT_batch, batch_size, max_seq_length, vector_size)\n",
    "            w2v.load_model('./model/movie_char2vec300.model')\n",
    "            val_XC_batch =w2v.zero_padding(val_XC_batch, batch_size, max_char_length, vector_size)\n",
    "            \n",
    "            v_los = loss.eval(feed_dict={XT:val_XT_batch, XC:val_XC_batch,\n",
    "                                         XJ:val_XJ_batch, Y:val_y_batch, keep_prob:1.0})\n",
    "            v_acc = accuracy.eval(feed_dict={XT:val_XT_batch, XC:val_XC_batch,\n",
    "                                         XJ:val_XJ_batch, Y:val_y_batch, keep_prob:1.0})\n",
    "            \n",
    "            avg_acc.append(v_acc)\n",
    "            avg_loss.append(v_los)\n",
    "        val_acc.append(sum(avg_acc)/len(avg_acc))\n",
    "        val_loss.append(sum(avg_loss)/len(avg_loss))\n",
    "        print('Eopch:{:2d}, cost={:9f}'.format((epoch+1), sum(avg_loss)/len(avg_loss)))\n",
    "        print('Validation Accuracy:', sum(avg_acc)/len(avg_acc))\n",
    "        \n",
    "        v_avg_acc = sum(avg_acc)/len(avg_acc)\n",
    "        # 조기종료를 위한 부분\n",
    "        # 5번 이상 정확률이 떨어진 경우, 종료\n",
    "        if v_avg_acc>best_accuracy:\n",
    "            save_path = saver.save(sess, modelName)\n",
    "            best_accuracy = v_avg_acc\n",
    "            checks_without_progress = 0\n",
    "        else:\n",
    "            checks_without_progress+=1\n",
    "            if checks_without_progress >= max_checks:\n",
    "                print('조기종료')\n",
    "                break\n",
    "                \n",
    "        print()"
   ]
  },
  {
   "cell_type": "code",
   "execution_count": 41,
   "metadata": {},
   "outputs": [
    {
     "name": "stdout",
     "output_type": "stream",
     "text": [
      "7\n"
     ]
    }
   ],
   "source": [
    "#조기종료 시접\n",
    "early_stop = val_acc.index(max(val_acc))\n",
    "print(early_stop)"
   ]
  },
  {
   "cell_type": "code",
   "execution_count": 42,
   "metadata": {},
   "outputs": [],
   "source": [
    "import matplotlib.pyplot as plt\n",
    "%matplotlib inline"
   ]
  },
  {
   "cell_type": "code",
   "execution_count": 43,
   "metadata": {},
   "outputs": [
    {
     "data": {
      "text/plain": [
       "<matplotlib.legend.Legend at 0x14cc1361508>"
      ]
     },
     "execution_count": 43,
     "metadata": {},
     "output_type": "execute_result"
    },
    {
     "data": {
      "image/png": "[encoded data removed]",
      "text/plain": [
       "<Figure size 432x288 with 1 Axes>"
      ]
     },
     "metadata": {
      "needs_background": "light"
     },
     "output_type": "display_data"
    }
   ],
   "source": [
    "# 조기종료 시점\n",
    "plt.plot(train_acc, color='g', marker='o')\n",
    "plt.plot(val_acc, color='y', marker='o')\n",
    "plt.axvline(x=early_stop, color='r', linestyle='--', linewidth=1)\n",
    "plt.xlabel('epoch')\n",
    "plt.ylabel('accuracy')\n",
    "plt.legend(['train', 'valid'])"
   ]
  },
  {
   "cell_type": "markdown",
   "metadata": {},
   "source": [
    "## 학습한 모델 성능 평가"
   ]
  },
  {
   "cell_type": "code",
   "execution_count": 45,
   "metadata": {},
   "outputs": [],
   "source": [
    "test_Token = w2v.corpus2vec('./model/movie_word2vec300.model',test_tokens)\n",
    "test_Char = w2v.corpus2vec('./model/movie_char2vec300.model', test_chars)\n",
    "test_Jaso = test_jaso\n",
    "test_Y = w2v.onehot(test_labels)"
   ]
  },
  {
   "cell_type": "code",
   "execution_count": 49,
   "metadata": {},
   "outputs": [
    {
     "name": "stdout",
     "output_type": "stream",
     "text": [
      "INFO:tensorflow:Restoring parameters from ./sentiment-parallel_LSTM_model.ckpt\n",
      "=====TEST=====\n",
      "cost= 0.296752\n",
      "Test Accuracy: 0.8721955128205128\n"
     ]
    }
   ],
   "source": [
    "with tf.Session() as sess:\n",
    "    sess.run(init)\n",
    "    saver.restore(sess, modelName)\n",
    "    \n",
    "    print('=====TEST=====')\n",
    "    avg_acc, avg_loss = [] , []\n",
    "    for XT_batch, XC_batch, XJ_batch, y_batch in shuffle_batch(test_Token, test_Char, test_Jaso, test_Y, batch_size):\n",
    "        if len(XT_batch)!=batch_size:\n",
    "            break\n",
    "                \n",
    "        w2v.load_model('./model/movie_word2vec300.model')\n",
    "        XT_batch =w2v.zero_padding(XT_batch, batch_size, max_seq_length, vector_size)\n",
    "        w2v.load_model('./model/movie_char2vec300.model')\n",
    "        XC_batch =w2v.zero_padding(XC_batch, batch_size, max_char_length, vector_size)\n",
    "            \n",
    "        los, _, acc = sess.run([loss, optimizer, accuracy],\n",
    "                    feed_dict={XT:XT_batch, XC:XC_batch, XJ:XJ_batch, Y:y_batch, keep_prob:1.0})\n",
    "            \n",
    "        avg_acc.append(acc)\n",
    "        avg_loss.append(los)\n",
    "     \n",
    "    print('cost={:9f}'.format(sum(avg_loss)/len(avg_loss)))\n",
    "    print('Test Accuracy:', sum(avg_acc)/len(avg_acc))"
   ]
  },
  {
   "cell_type": "code",
   "execution_count": null,
   "metadata": {},
   "outputs": [],
   "source": []
  }
 ],
 "metadata": {
  "kernelspec": {
   "display_name": "Python 3",
   "language": "python",
   "name": "python3"
  },
  "language_info": {
   "codemirror_mode": {
    "name": "ipython",
    "version": 3
   },
   "file_extension": ".py",
   "mimetype": "text/x-python",
   "name": "python",
   "nbconvert_exporter": "python",
   "pygments_lexer": "ipython3",
   "version": "3.7.4"
  }
 },
 "nbformat": 4,
 "nbformat_minor": 2
}
